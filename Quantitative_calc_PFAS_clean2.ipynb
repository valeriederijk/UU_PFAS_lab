{
 "cells": [
  {
   "cell_type": "markdown",
   "id": "a6e2c423-eff1-4412-a116-09c32d28e166",
   "metadata": {},
   "source": [
    "# Calculation of RSE and quantitative determination of PFAS concentrations from the LC-TQ V_2\n",
    "Author: Valerie de Rijk\n",
    "\n",
    "Date: 15/8/2025"
   ]
  },
  {
   "cell_type": "markdown",
   "id": "4aa20d85-952a-4bf0-8db7-4b30de60eddd",
   "metadata": {},
   "source": [
    "## 1 Data Loading\n",
    "First we load in the raw data as a csv file (which is the file you directly get from MassHunter).\n",
    "We also directly check if the s/n ratio is above 3 for all samples in the calibration line. "
   ]
  },
  {
   "cell_type": "code",
   "execution_count": 4,
   "id": "8bf74cee-2115-434b-bb3a-c827c9af6cea",
   "metadata": {},
   "outputs": [
    {
     "ename": "FileNotFoundError",
     "evalue": "[Errno 2] No such file or directory: 'rawdata/TestSoil_20250911.csv'",
     "output_type": "error",
     "traceback": [
      "\u001b[1;31m---------------------------------------------------------------------------\u001b[0m",
      "\u001b[1;31mFileNotFoundError\u001b[0m                         Traceback (most recent call last)",
      "Cell \u001b[1;32mIn[4], line 2\u001b[0m\n\u001b[0;32m      1\u001b[0m get_ipython()\u001b[38;5;241m.\u001b[39mrun_line_magic(\u001b[38;5;124m'\u001b[39m\u001b[38;5;124mrun\u001b[39m\u001b[38;5;124m'\u001b[39m, \u001b[38;5;124m'\u001b[39m\u001b[38;5;124msrc/functions_quantitative.ipynb\u001b[39m\u001b[38;5;124m'\u001b[39m)\n\u001b[1;32m----> 2\u001b[0m rawdata \u001b[38;5;241m=\u001b[39m load_and_label_pfas_csv(\u001b[38;5;124m\"\u001b[39m\u001b[38;5;124mrawdata/TestSoil_20250911.csv\u001b[39m\u001b[38;5;124m\"\u001b[39m)\n\u001b[0;32m      3\u001b[0m sn_results \u001b[38;5;241m=\u001b[39m check_calibration_sn_ratios(rawdata)\n\u001b[0;32m      4\u001b[0m \u001b[38;5;66;03m# Print formatted results\u001b[39;00m\n",
      "File \u001b[1;32m~\\AppData\\Local\\Temp\\ipykernel_34448\\4114819063.py:44\u001b[0m, in \u001b[0;36mload_and_label_pfas_csv\u001b[1;34m(csv_path)\u001b[0m\n\u001b[0;32m     30\u001b[0m \u001b[38;5;250m\u001b[39m\u001b[38;5;124;03m\"\"\"\u001b[39;00m\n\u001b[0;32m     31\u001b[0m \u001b[38;5;124;03mLoad a PFAS CSV file, combine headers, and return a labeled DataFrame.\u001b[39;00m\n\u001b[0;32m     32\u001b[0m \u001b[38;5;124;03mAutomatically detects whether the file uses semicolon (;) or comma (,) delimiters.\u001b[39;00m\n\u001b[1;32m   (...)\u001b[0m\n\u001b[0;32m     41\u001b[0m \u001b[38;5;124;03m    DataFrame with combined headers for PFAS compounds.\u001b[39;00m\n\u001b[0;32m     42\u001b[0m \u001b[38;5;124;03m\"\"\"\u001b[39;00m\n\u001b[0;32m     43\u001b[0m \u001b[38;5;66;03m# Detect the delimiter\u001b[39;00m\n\u001b[1;32m---> 44\u001b[0m delimiter \u001b[38;5;241m=\u001b[39m detect_csv_delimiter(csv_path)\n\u001b[0;32m     45\u001b[0m \u001b[38;5;28mprint\u001b[39m(\u001b[38;5;124mf\u001b[39m\u001b[38;5;124m\"\u001b[39m\u001b[38;5;124mDetected delimiter: \u001b[39m\u001b[38;5;124m'\u001b[39m\u001b[38;5;132;01m{\u001b[39;00mdelimiter\u001b[38;5;132;01m}\u001b[39;00m\u001b[38;5;124m'\u001b[39m\u001b[38;5;124m\"\u001b[39m)\n\u001b[0;32m     47\u001b[0m \u001b[38;5;66;03m# Read the first two lines to construct headers\u001b[39;00m\n",
      "File \u001b[1;32m~\\AppData\\Local\\Temp\\ipykernel_34448\\4114819063.py:13\u001b[0m, in \u001b[0;36mdetect_csv_delimiter\u001b[1;34m(csv_path)\u001b[0m\n\u001b[0;32m      8\u001b[0m \u001b[38;5;28;01mdef\u001b[39;00m \u001b[38;5;21mdetect_csv_delimiter\u001b[39m(csv_path):\n\u001b[0;32m      9\u001b[0m \u001b[38;5;250m    \u001b[39m\u001b[38;5;124;03m\"\"\"\u001b[39;00m\n\u001b[0;32m     10\u001b[0m \u001b[38;5;124;03m    Detect the delimiter used in a CSV file by checking the first line.\u001b[39;00m\n\u001b[0;32m     11\u001b[0m \u001b[38;5;124;03m    Returns the delimiter that appears more frequently.\u001b[39;00m\n\u001b[0;32m     12\u001b[0m \u001b[38;5;124;03m    \"\"\"\u001b[39;00m\n\u001b[1;32m---> 13\u001b[0m     \u001b[38;5;28;01mwith\u001b[39;00m \u001b[38;5;28mopen\u001b[39m(csv_path, \u001b[38;5;124m'\u001b[39m\u001b[38;5;124mr\u001b[39m\u001b[38;5;124m'\u001b[39m, encoding\u001b[38;5;241m=\u001b[39m\u001b[38;5;124m'\u001b[39m\u001b[38;5;124mutf-8\u001b[39m\u001b[38;5;124m'\u001b[39m) \u001b[38;5;28;01mas\u001b[39;00m f:\n\u001b[0;32m     14\u001b[0m         first_line \u001b[38;5;241m=\u001b[39m f\u001b[38;5;241m.\u001b[39mreadline()\u001b[38;5;241m.\u001b[39mstrip()\n\u001b[0;32m     16\u001b[0m     semicolon_count \u001b[38;5;241m=\u001b[39m first_line\u001b[38;5;241m.\u001b[39mcount(\u001b[38;5;124m'\u001b[39m\u001b[38;5;124m;\u001b[39m\u001b[38;5;124m'\u001b[39m)\n",
      "File \u001b[1;32m~\\AppData\\Local\\anaconda3\\envs\\pfas\\Lib\\site-packages\\IPython\\core\\interactiveshell.py:324\u001b[0m, in \u001b[0;36m_modified_open\u001b[1;34m(file, *args, **kwargs)\u001b[0m\n\u001b[0;32m    317\u001b[0m \u001b[38;5;28;01mif\u001b[39;00m file \u001b[38;5;129;01min\u001b[39;00m {\u001b[38;5;241m0\u001b[39m, \u001b[38;5;241m1\u001b[39m, \u001b[38;5;241m2\u001b[39m}:\n\u001b[0;32m    318\u001b[0m     \u001b[38;5;28;01mraise\u001b[39;00m \u001b[38;5;167;01mValueError\u001b[39;00m(\n\u001b[0;32m    319\u001b[0m         \u001b[38;5;124mf\u001b[39m\u001b[38;5;124m\"\u001b[39m\u001b[38;5;124mIPython won\u001b[39m\u001b[38;5;124m'\u001b[39m\u001b[38;5;124mt let you open fd=\u001b[39m\u001b[38;5;132;01m{\u001b[39;00mfile\u001b[38;5;132;01m}\u001b[39;00m\u001b[38;5;124m by default \u001b[39m\u001b[38;5;124m\"\u001b[39m\n\u001b[0;32m    320\u001b[0m         \u001b[38;5;124m\"\u001b[39m\u001b[38;5;124mas it is likely to crash IPython. If you know what you are doing, \u001b[39m\u001b[38;5;124m\"\u001b[39m\n\u001b[0;32m    321\u001b[0m         \u001b[38;5;124m\"\u001b[39m\u001b[38;5;124myou can use builtins\u001b[39m\u001b[38;5;124m'\u001b[39m\u001b[38;5;124m open.\u001b[39m\u001b[38;5;124m\"\u001b[39m\n\u001b[0;32m    322\u001b[0m     )\n\u001b[1;32m--> 324\u001b[0m \u001b[38;5;28;01mreturn\u001b[39;00m io_open(file, \u001b[38;5;241m*\u001b[39margs, \u001b[38;5;241m*\u001b[39m\u001b[38;5;241m*\u001b[39mkwargs)\n",
      "\u001b[1;31mFileNotFoundError\u001b[0m: [Errno 2] No such file or directory: 'rawdata/TestSoil_20250911.csv'"
     ]
    }
   ],
   "source": [
    "%run src/functions_quantitative.ipynb\n",
    "rawdata = load_and_label_pfas_csv(\"rawdata/TestSoil_20250911.csv\")\n",
    "sn_results = check_calibration_sn_ratios(rawdata)\n",
    "# Print formatted results\n",
    "print_sn_check_results(sn_results)"
   ]
  },
  {
   "cell_type": "markdown",
   "id": "1f89324f-dabc-4275-90e1-21012d3c0f90",
   "metadata": {},
   "source": [
    "## 2 Calibration line:  Average Response Factor, recovery and RSE for EIS compounds \n",
    "To analyze all instrument linearity metrics, we first need to calculate the EIS concentrations found in the samples. \n",
    "We do this by caclulating the concentrations based on the formula on page 44 of EPA method 1633. \n",
    "To achieve this, we first need to calculate the average response factor per compound (EPA method 1633 page 28). \n",
    "Afterwards, we check if the recovery of the compound falls within the accepted limits denoted by EPA method 1633 (Table 6). \n",
    "We also already compute the concentrations for the QC samples, these are analyzed further in section 3.2 \n",
    "\n",
    "We compute the RSE based on  the formula for RSE based on EPA method 1633 (section 10.3.3.3, page 28, option 2). The functions are loaded in a different script. \n",
    "If the RSE of a single compound remains above 20%, this means something is wrong with the linearity of the LC-MS TQ and the calculated concentrations in section 3 are not trustworthy. \n",
    "### 2.1 EIS compounds\n",
    "MAKE SURE YOU CHANGE THE MATRIX TYPE FOR ACCURATE RECOVERIES\n",
    "\n",
    "If you notice here certain calibration levels are consistently bad, there's an option to exclude them for further analysis in the 2nd code block. \n",
    "If you don't want to exclude any levels type *excluded_cal_level = 'None'*\n",
    "\n",
    "The 2nd code block prints detailed information on the RSE. You can view detailed results by removing *%%capture* in the code block, or alternatively just observe the printed summary. \n",
    "\n"
   ]
  },
  {
   "cell_type": "code",
   "execution_count": 3,
   "id": "cc0bb43c-3082-4920-aa08-bd604b21d362",
   "metadata": {},
   "outputs": [
    {
     "ename": "NameError",
     "evalue": "name 'IPR_recovery_rsd_solid' is not defined",
     "output_type": "error",
     "traceback": [
      "\u001b[1;31m---------------------------------------------------------------------------\u001b[0m",
      "\u001b[1;31mNameError\u001b[0m                                 Traceback (most recent call last)",
      "Cell \u001b[1;32mIn[3], line 20\u001b[0m\n\u001b[0;32m     18\u001b[0m     EIS_NIS_compound_recovery \u001b[38;5;241m=\u001b[39m EIS_NIS_compound_recovery_solid\n\u001b[0;32m     19\u001b[0m     OPR_recovery \u001b[38;5;241m=\u001b[39m OPR_recovery_solid\n\u001b[1;32m---> 20\u001b[0m     IPR_recovery_rsd \u001b[38;5;241m=\u001b[39m IPR_recovery_rsd_solid\n\u001b[0;32m     21\u001b[0m \u001b[38;5;28;01melse\u001b[39;00m:\n\u001b[0;32m     22\u001b[0m     \u001b[38;5;28;01mraise\u001b[39;00m \u001b[38;5;167;01mValueError\u001b[39;00m(\u001b[38;5;124mf\u001b[39m\u001b[38;5;124m\"\u001b[39m\u001b[38;5;124mUnknown matrix type: \u001b[39m\u001b[38;5;132;01m{\u001b[39;00mmatrix_type\u001b[38;5;132;01m}\u001b[39;00m\u001b[38;5;124m. Use \u001b[39m\u001b[38;5;124m'\u001b[39m\u001b[38;5;124maqueous\u001b[39m\u001b[38;5;124m'\u001b[39m\u001b[38;5;124m or \u001b[39m\u001b[38;5;124m'\u001b[39m\u001b[38;5;124msolid\u001b[39m\u001b[38;5;124m'\u001b[39m\u001b[38;5;124m\"\u001b[39m)\n",
      "\u001b[1;31mNameError\u001b[0m: name 'IPR_recovery_rsd_solid' is not defined"
     ]
    }
   ],
   "source": [
    "\n",
    "from expected_concs import expected_concs_EIS, expected_concs_target_analytes\n",
    "\n",
    "from analogs_compounds import target_EIS_analogs, EIS_NIS_analogs\n",
    "from solutions import calibration_solutions\n",
    "\n",
    "# computation of EIS concentration and recovery rate\n",
    "from solutions import NIS_stock, EIS_stock\n",
    "from allowed_recoveries import EIS_NIS_compound_recovery_aqueous,EIS_NIS_compound_recovery_solid, OPR_recovery_aqueous, OPR_recovery_solid, IPR_recovery_rsd_solid\n",
    "\n",
    "matrix_type = \"solid\"  # or \"solid\n",
    "\n",
    "# Select appropriate recovery limits based on matrix type\n",
    "if matrix_type.lower() == \"aqueous\":\n",
    "    EIS_NIS_compound_recovery = EIS_NIS_compound_recovery_aqueous\n",
    "    OPR_recovery = OPR_recovery_aqueous\n",
    "    IPR_recovery_rsd = IPR_recovery_rsd_aqueous\n",
    "elif matrix_type.lower() == \"solid\":\n",
    "    EIS_NIS_compound_recovery = EIS_NIS_compound_recovery_solid\n",
    "    OPR_recovery = OPR_recovery_solid\n",
    "    IPR_recovery_rsd = IPR_recovery_rsd_solid\n",
    "else:\n",
    "    raise ValueError(f\"Unknown matrix type: {matrix_type}. Use 'aqueous' or 'solid'\")\n",
    "\n",
    "#calculations\n",
    "eis_RFS = calculate_average_RFs_EIS(rawdata, EIS_NIS_analogs, calibration_solutions)\n",
    "\n",
    "\n",
    "Ws_cal = 0.25#ml\n",
    "dilution_NIS_stock_cal = 40 #dilution cal\n",
    "dilution_EIS_stock_cal = 40 #dilution cal\n",
    "spiked_amount_cal = 0.05 #ml\n",
    "Df_cal = 1 #dilution factor\n",
    "spiked_amount = 0.05 #ml\n",
    "\n",
    "dilution_EIS_stock = 2 \n",
    "spiked_amount_EIS =0.05 #ml\n",
    "\n",
    "#calibration line\n",
    "conc_EIS_cal, conc_QC = calculate_conc_EIS_cal(rawdata, eis_RFS, dilution_NIS_stock_cal, Ws_cal,\n",
    "                          EIS_NIS_analogs, Df_cal, NIS_stock, spiked_amount_cal)\n",
    "\n",
    "calculated_recoveries_EIS_cal = calculate_recoveries(conc_EIS_cal, expected_concs_EIS)\n",
    "\n",
    "validation_results_cal= validate_recoveries(calculated_recoveries_EIS_cal, EIS_NIS_compound_recovery)\n",
    "summary_cal = summarize_validation_results(validation_results_cal)\n",
    "print(\"Validation Summary:\")\n",
    "for key, value in summary_cal['Overall'].items():\n",
    "    print(f\"{key}: {value}\")\n",
    "\n",
    "failed_recoveries_cal = get_failed_recoveries(validation_results_cal)"
   ]
  },
  {
   "cell_type": "code",
   "execution_count": null,
   "id": "aa5ee60d-9c00-4beb-929e-0ae7340b5ca3",
   "metadata": {
    "scrolled": true
   },
   "outputs": [],
   "source": [
    "%%capture\n",
    "# RSE EIS Calibration line\n",
    "excluded_cal_level = 'L3'\n",
    "rse_results_cal_EIS = calculate_eis_rse_modified(conc_EIS_cal, expected_concs_EIS, p=2, exclude_levels = excluded_cal_level)\n"
   ]
  },
  {
   "cell_type": "code",
   "execution_count": null,
   "id": "5347734b-bbaf-4fb6-9d48-3530c33415f2",
   "metadata": {},
   "outputs": [],
   "source": [
    "df_rse_eis=df_rse_results(rse_results_cal_EIS)\n",
    "display(df_rse_eis)"
   ]
  },
  {
   "cell_type": "markdown",
   "id": "bed7a412-cac6-4d81-bd8a-dcc13b5f4951",
   "metadata": {},
   "source": [
    "## 2.2 Target analytes \n",
    "\n",
    "### 2.2.1 Response Ratio (RR) and Response Factor (RF) for target ID compounds\n",
    "Here we compute the response ratio for the ID compounds by using the formula from EPA 1633 on page 27 under section 10.3.3.2. For now we also fix some naming errors in the raw data for the target analytes. The only difference with the above calculation is that EIS analogs instead of direct pairs are used for the target EIS compounds. For ease, we call both RF.\n",
    "\n",
    "- *Note 1*: NMeFoSA and NEtFoSa are calculated now but are not included in the PFAC30PAR ampoule we currently use in the lab, so these compounds cannot be in the calibration line. Use these results with care.\n",
    "- *Note 2*:EPA 1633 mentions that PFTrDA recovery should improve by taking the average of the analog EIS compounds 13c2-PFTeDA and 13c2-PFDoa. Currently it only takes the EIS compound 13C2-PFTeDA as an analog.\n",
    "- *Note 3*: EPA 1633 is capable of analyzing 40 compounds, our native standard solution only contains 30, so you will get errors that data for some compounds is not found. This is correct. If new ampoules are ordered for the other 10 compounds, everything needed for the calculation is there.\n",
    "- *Note 4*: the FTS compounds only have 6 cal levels instead of 7.\n"
   ]
  },
  {
   "cell_type": "code",
   "execution_count": null,
   "id": "7f57c287-d4dc-48f2-8df5-935165f7ceb5",
   "metadata": {},
   "outputs": [],
   "source": [
    "from analogs_compounds import target_EIS_analogs\n",
    "\n",
    "# Make a copy of rawdata to avoid modifying the original\n",
    "rawdata_copy = rawdata.copy()\n",
    "columns_to_rename = {}\n",
    "for col in rawdata_copy.columns:\n",
    "    new_col = col\n",
    "    # Fix PFPHpA -> PFHpA\n",
    "    if 'PFPHpA' in col:\n",
    "        new_col = new_col.replace('PFPHpA', 'PFHpA')\n",
    "    # Remove spaces from FTS compounds (e.g., \"4:2 FTS\" -> \"4:2FTS\")\n",
    "    if ' FTS' in col:\n",
    "        new_col = new_col.replace(' FTS', 'FTS')\n",
    "    \n",
    "    if new_col != col:\n",
    "        columns_to_rename[col] = new_col\n",
    "\n",
    "if columns_to_rename:\n",
    "    rawdata_copy.rename(columns=columns_to_rename, inplace=True)\n",
    "\n",
    "RF_target_analytes= calculate_average_RRs_targets(rawdata_copy, expected_concs_EIS, calibration_solutions, target_EIS_analogs)"
   ]
  },
  {
   "cell_type": "markdown",
   "id": "f1a47c1b-0ee7-429c-93fb-6b688fde1929",
   "metadata": {},
   "source": [
    "### 2.2.2 Recovery IPR and OPR for target analytes in calibration line \n",
    "Here we compare calculated recoveries for the target analytes in all calibration samples and compare them to the expected recoveries and maximum RSD for IPR (Table 5) \n",
    "* Note: OPR/LLOPR recovery is a little less strict. If needed for comparison exchange IPR_recovery_rsd_aqueous for OPR_recovery_aqueous. IPR considers mean recovery and RSD, OPR is per sample. Thus, you should not run the function mean_recoveries. "
   ]
  },
  {
   "cell_type": "code",
   "execution_count": null,
   "id": "5ea82620-2c5c-4141-a15b-88b2f35cdc3b",
   "metadata": {},
   "outputs": [],
   "source": [
    "from allowed_recoveries import IPR_recovery_rsd_aqueous, OPR_recovery_aqueous\n",
    "sampletype = \"Cal\"\n",
    "conc_target_analytes_cal = calculate_conc_targets(rawdata_copy,\n",
    "                           RF_target_analytes,\n",
    "                           EIS_stock, dilution_EIS_stock_cal, spiked_amount_cal, Ws_cal,\n",
    "                           Df_cal, sampletype, debug_compound=None )\n",
    "calculated_recoveries_target_cal = calculate_recoveries(conc_target_analytes_cal, expected_concs_target_analytes)\n",
    "\n",
    "validation_results_target_cal= validate_recoveries(calculated_recoveries_target_cal, IPR_recovery_rsd)\n",
    "summary_cal = summarize_validation_results(validation_results_target_cal)\n",
    "print(\"Validation Summary:\")\n",
    "for key, value in summary_cal['Overall'].items():\n",
    "    print(f\"{key}: {value}\")\n",
    "\n",
    "#for IPR, it is not necessarily failed if the below dataframe contains samples that do not pass. Rather, look at the output from mean_recoveries. \n",
    "\n",
    "failed_recoveries_cal = get_failed_recoveries(validation_results_target_cal)\n",
    "#Only for IPR\n",
    "IPR_target_cal = mean_recoveries(calculated_recoveries_target_cal, IPR_recovery_rsd)\n",
    "display(IPR_target_cal)"
   ]
  },
  {
   "cell_type": "markdown",
   "id": "ac302824-c27f-432c-ae41-05b215bcff54",
   "metadata": {},
   "source": [
    "### 2.2.3 RSE results target analytes\n",
    "We make two results, one with all calibration levels (7 for general compounds, 6 for FTS) - rse_results_cal_target, and one with the calibration level as excluded earlier for EIS compounds - rse_results_excluded_cal."
   ]
  },
  {
   "cell_type": "code",
   "execution_count": null,
   "id": "3b5164d0-4543-4eae-97c8-02d58ad75fe0",
   "metadata": {},
   "outputs": [],
   "source": [
    "%%capture\n",
    "rse_results_cal_target, rse_results_excluded_cal = calculate_target_rse(conc_target_analytes_cal, expected_concs_target_analytes, p=2, level_to_exclude = excluded_cal_level )"
   ]
  },
  {
   "cell_type": "code",
   "execution_count": null,
   "id": "2214599c-2cf0-47e1-af8e-77aef1e12a5c",
   "metadata": {},
   "outputs": [],
   "source": [
    "df_rse_target=df_rse_results(rse_results_cal_target)\n",
    "display(df_rse_target)"
   ]
  },
  {
   "cell_type": "code",
   "execution_count": null,
   "id": "36d11698-6d4c-40e6-b97c-527cf16eb6ad",
   "metadata": {},
   "outputs": [],
   "source": [
    "df_rse_target_excluded = df_rse_results(rse_results_excluded_cal) \n",
    "display(df_rse_target_excluded)"
   ]
  },
  {
   "cell_type": "markdown",
   "id": "21f5541f-176b-496e-ad83-76089292088f",
   "metadata": {},
   "source": [
    "## 3 Samples \n",
    "\n",
    "### 3.1 Recovery EIS in Samples \n",
    "Here we compute the recovery of the EIS compounds within the samples analyzed. "
   ]
  },
  {
   "cell_type": "code",
   "execution_count": null,
   "id": "d21520b1-4149-4854-ab5b-e4770667d499",
   "metadata": {},
   "outputs": [],
   "source": [
    "# computation of EIS concentration and recovery rate\n",
    "from solutions import NIS_stock, EIS_stock\n",
    "from allowed_recoveries import EIS_NIS_compound_recovery_aqueous\n",
    "DF_sample = 1 #dilution factor \n",
    "mass_bottle_filled = 499.8 #grams\n",
    "mass_bottle_empty = 53.68 #grams\n",
    "Ws = (mass_bottle_filled - mass_bottle_empty)/1000 #L\n",
    "Ws_cal = 0.25#ml\n",
    "\n",
    "# Create weights dictionary in grams\n",
    "weights_dict = {\n",
    "    'Sand500': 5.0,\n",
    "    'Sand504': 5.04, \n",
    "    'Sand506': 5.06, \n",
    "    'Clay537': 5.37\n",
    "}\n",
    "\n",
    "rawdata_copy['Ws'] = rawdata_copy['Name'].map(weights_dict)\n",
    "\n",
    "dilution_NIS_stock = 2 #1:1 dilution\n",
    "dilution_NIS_stock_cal = 40 #dilution cal\n",
    "dilution_EIS_stock_cal = 40 #dilution cal\n",
    "spiked_amount_cal = 0.05 #ml\n",
    "Df_cal = 1 #dilution factor\n",
    "spiked_amount = 0.05 #ml\n",
    "\n",
    "dilution_EIS_stock = 1 #normally 2 \n",
    "spiked_amount_EIS =0.05 #ml\n",
    "\n",
    "calculated_conc_EIS = calculate_conc_EIS(rawdata_copy, eis_RFS, dilution_NIS_stock,EIS_NIS_analogs, DF_sample, NIS_stock, spiked_amount)\n",
    "\n",
    "#for run on 12-9-2025\n",
    "expected_concs_EIS_doubled = {key: value * 2 for key, value in expected_concs_EIS.items()}\n",
    "calculated_recoveries_EIS = calculate_recoveries(calculated_conc_EIS, expected_concs_EIS_doubled)\n",
    "\n",
    "validation_results_samples= validate_recoveries(calculated_recoveries_EIS, EIS_NIS_compound_recovery_solid)\n",
    "summary_samples = summarize_validation_results(validation_results_samples)\n",
    "print(\"Validation Summary:\")\n",
    "for key, value in summary_samples['Overall'].items():\n",
    "    print(f\"{key}: {value}\")\n",
    "\n",
    "failed_recoveries_samples = get_failed_recoveries(validation_results_samples)\n"
   ]
  },
  {
   "cell_type": "markdown",
   "id": "afaf555b-0f40-4ae9-96bf-06e72ee9004c",
   "metadata": {},
   "source": [
    "## 3.2 QC samples\n",
    "In this section we will check the results of the QC samples and assessing if they meet recovery limits. We have already computed EIS recovery for QC earlier. Here, we also compute the concentration for the target analytes in the QC samples."
   ]
  },
  {
   "cell_type": "code",
   "execution_count": null,
   "id": "1739dea7-bb30-4f0c-9c55-275e05cf3950",
   "metadata": {},
   "outputs": [],
   "source": [
    "sample_QC = \"QC\"\n",
    "QC_level = 5\n",
    "conc_target_analytes_QC = calculate_conc_targets(rawdata_copy,\n",
    "                           RF_target_analytes,\n",
    "                           EIS_stock, dilution_EIS_stock_cal, spiked_amount_cal, Ws_cal,\n",
    "                           Df_cal, sample_QC, debug_compound=None )\n",
    "\n",
    "calculated_recoveries_EIS_QC = calculate_recoveries(conc_QC, expected_concs_EIS)\n",
    "expected_concs_level =  filter_expected_concs_by_level(expected_concs_target_analytes,QC_level)\n",
    "calculated_recoveries_target_QC = calculate_recoveries(conc_target_analytes_QC, expected_concs_level)\n",
    "\n",
    "validation_results_target_QC= validate_recoveries(calculated_recoveries_target_QC, OPR_recovery_solid)\n",
    "\n",
    "summary_cal = summarize_validation_results(validation_results_cal)\n",
    "print(\"Validation Summary:\")\n",
    "for key, value in summary_cal['Overall'].items():\n",
    "    print(f\"{key}: {value}\")\n",
    "\n",
    "failed_recoveries_cal = get_failed_recoveries(validation_results_cal)\n"
   ]
  }
 ],
 "metadata": {
  "kernelspec": {
   "display_name": "Python 3 (Spyder)",
   "language": "python3",
   "name": "python3"
  },
  "language_info": {
   "codemirror_mode": {
    "name": "ipython",
    "version": 3
   },
   "file_extension": ".py",
   "mimetype": "text/x-python",
   "name": "python",
   "nbconvert_exporter": "python",
   "pygments_lexer": "ipython3",
   "version": "3.12.7"
  }
 },
 "nbformat": 4,
 "nbformat_minor": 5
}
