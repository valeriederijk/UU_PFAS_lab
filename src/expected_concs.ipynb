{
 "cells": [
  {
   "cell_type": "code",
   "execution_count": 1,
   "id": "72b9d736-38d2-448f-b35f-7ef6f9f31e7c",
   "metadata": {},
   "outputs": [],
   "source": [
    "expected_concs_EIS = {\n",
    "    'D7-NMeFOSE': 25, 'D9-NEtFOSE': 25, '13C4-PFBA': 10, '13C3-HFPO-DA': 10,\n",
    "    '13C5-PFPeA': 5, '13C2-4:2FTS': 5, '13C2-6:2FTS': 5, '13C2-8:2FTS': 5,\n",
    "    'D3-NMeFOSAA': 5, 'D5-NEtFOSAA': 5, '13C5-PFHxA': 2.5, '13C4-PFHpA': 2.5,\n",
    "    '13C8-PFOA': 2.5, '13C3-PFBS': 2.5, '13C3-PFHxS': 2.5, '13C8-PFOS': 2.5,\n",
    "    '13C8-PFOSA': 2.5, 'D3-NMeFOSA': 2.5, 'D5-NEtFOSA': 2.5, '13C9-PFNA': 1.25,\n",
    "    '13C6-PFDA': 1.25,'13C7-PFUnA': 1.25, '13C2-PFDoA': 1.25, '13C2-PFTeDA': 1.25\n",
    "}\n",
    "\n",
    "expected_target_conc_1 = [0.8, 2, 5, 10, 20, 50, 250]\n",
    "expected_target_conc_2 = [2, 5, 12.5, 25, 50, 25, 625]\n",
    "expected_target_conc_3 = [0.2, 0.5, 1.25, 2.5, 5, 12.5, 62.5]\n",
    "\n",
    "expected_concs_target_analytes = {\n",
    "    'PFBA': expected_target_conc_1, '4:2 FTS': expected_target_conc_1,\n",
    "    '6:2 FTS': expected_target_conc_1, '8:2 FTS': expected_target_conc_1,\n",
    "    'HFPO-DA': expected_target_conc_1, 'ADONA': expected_target_conc_1,\n",
    "    '11Cl-PF3ONS': expected_target_conc_1, '9Cl-PF3ONS': expected_target_conc_1,\n",
    "    'PFPeA': [0.4, 1, 2.5, 5, 10, 25, 125],\n",
    "    'NMeFOSE': expected_target_conc_2, 'NEtFOSE': expected_target_conc_2,\n",
    "    'PFHxA': expected_target_conc_3, 'PFHpA': expected_target_conc_3,\n",
    "    'PFOA': expected_target_conc_3, 'PFNA': expected_target_conc_3,\n",
    "    'PFDA': expected_target_conc_3, 'PFUnA': expected_target_conc_3,\n",
    "    'PFDoA': expected_target_conc_3, 'PFTrDA': expected_target_conc_3,\n",
    "    'PFTeDA': expected_target_conc_3, 'PFBS': expected_target_conc_3,\n",
    "    'PFPeS': expected_target_conc_3, 'PFHxS': expected_target_conc_3,\n",
    "    'PFHpS': expected_target_conc_3, 'PFOS': expected_target_conc_3,\n",
    "    'PFOSA': expected_target_conc_3, 'NMeFOSA': expected_target_conc_3,\n",
    "    'NEtFOSA': expected_target_conc_3, 'NMeFOSAA': expected_target_conc_3,\n",
    "    'NEtFOSAA': expected_target_conc_3\n",
    "}\n"
   ]
  }
 ],
 "metadata": {
  "kernelspec": {
   "display_name": "Python 3 (Spyder)",
   "language": "python3",
   "name": "python3"
  },
  "language_info": {
   "codemirror_mode": {
    "name": "ipython",
    "version": 3
   },
   "file_extension": ".py",
   "mimetype": "text/x-python",
   "name": "python",
   "nbconvert_exporter": "python",
   "pygments_lexer": "ipython3",
   "version": "3.12.7"
  }
 },
 "nbformat": 4,
 "nbformat_minor": 5
}
